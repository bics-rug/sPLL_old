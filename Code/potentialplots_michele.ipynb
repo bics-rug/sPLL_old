{
 "cells": [
  {
   "cell_type": "code",
   "execution_count": 2,
   "metadata": {
    "ExecuteTime": {
     "end_time": "2023-08-24T14:20:34.196731984Z",
     "start_time": "2023-08-24T14:20:34.135241763Z"
    }
   },
   "outputs": [
    {
     "data": {
      "text/plain": [
       "<torch._C.Generator at 0x7f8c97fb15d0>"
      ]
     },
     "execution_count": 2,
     "metadata": {},
     "output_type": "execute_result"
    }
   ],
   "source": [
    "import matplotlib.pyplot as plt\n",
    "import numpy as np\n",
    "import torch\n",
    "import torch.nn as nn\n",
    "from collections import namedtuple\n",
    "# from bokeh.plotting import figure, show, row, output_notebook\n",
    "# from bokeh.plotting import output_notebook\n",
    "# output_notebook()\n",
    "import tqdm\n",
    "# import seaborn as sns\n",
    "from matplotlib.colors import ListedColormap\n",
    "import matplotlib as mpl\n",
    "import scipy.signal as sig\n",
    "import pandas as pd\n",
    "import scipy.integrate as integ\n",
    "torch.manual_seed(6)"
   ]
  },
  {
   "cell_type": "code",
   "execution_count": 3,
   "metadata": {
    "ExecuteTime": {
     "end_time": "2023-08-24T14:20:34.398918995Z",
     "start_time": "2023-08-24T14:20:34.388102166Z"
    }
   },
   "outputs": [],
   "source": [
    "class SurrGradSpike(torch.autograd.Function):\n",
    "    \"\"\"\n",
    "    Here we implement our spiking nonlinearity which also implements\n",
    "    the surrogate gradient. By subclassing torch.autograd.Function,\n",
    "    we will be able to use all of PyTorch's autograd functionality.\n",
    "    Here we use the normalized negative part of a fast sigmoid\n",
    "    as this was done in Zenke & Ganguli (2018).\n",
    "    \"\"\"\n",
    "\n",
    "    scale = 20.0  # controls steepness of surrogate gradient\n",
    "\n",
    "    @staticmethod\n",
    "    def forward(ctx, input):\n",
    "        \"\"\"\n",
    "        In the forward pass we compute a step function of the input Tensor\n",
    "        and return it. ctx is a context object that we use to stash information which\n",
    "        we need to later backpropagate our error signals. To achieve this we use the\n",
    "        ctx.save_for_backward method.\n",
    "        \"\"\"\n",
    "        ctx.save_for_backward(input)\n",
    "        return (input > 0.).float()\n",
    "\n",
    "    @staticmethod\n",
    "    def backward(ctx, grad_output):\n",
    "        \"\"\"\n",
    "        In the backward pass we receive a Tensor we need to compute the\n",
    "        surrogate gradient of the loss with respect to the input.\n",
    "        Here we use the normalized negative part of a fast sigmoid\n",
    "        as this was done in Zenke & Ganguli (2018).\n",
    "        \"\"\"\n",
    "        input, = ctx.saved_tensors\n",
    "        grad_input = grad_output.clone()\n",
    "        grad = grad_input / (SurrGradSpike.scale * torch.abs(input) + 1.0) ** 2\n",
    "        return grad\n",
    "\n",
    "\n",
    "activation = SurrGradSpike.apply"
   ]
  },
  {
   "cell_type": "markdown",
   "metadata": {},
   "source": [
    "# Defining models\n",
    "## LIF model"
   ]
  },
  {
   "cell_type": "code",
   "execution_count": 4,
   "metadata": {
    "ExecuteTime": {
     "end_time": "2023-08-24T14:20:34.710506430Z",
     "start_time": "2023-08-24T14:20:34.695049577Z"
    }
   },
   "outputs": [],
   "source": [
    "class LIF_neuron(nn.Module):\n",
    "    NeuronState = namedtuple('NeuronState', ['V', 'I','count_refr'])\n",
    "\n",
    "    def __init__(self, parameters):\n",
    "        super(LIF_neuron, self).__init__()\n",
    "        self.C = parameters['C_Osc']\n",
    "        self.thr = parameters['v_Osc_threshold']\n",
    "        self.state = None\n",
    "        self.bs = parameters['trials_per_stimulus']\n",
    "        self.n = parameters['neurons_n']\n",
    "        self.tau_syn = parameters['tau_Osc_Ie']\n",
    "        self.tau_neu = parameters['tau_Osc']\n",
    "        self.gain_syn = parameters['TDE_to_Osc_current']\n",
    "        self.dt = parameters['clock_sim']\n",
    "        self.Vr = parameters['reset_osc']\n",
    "        self.device = parameters['device']\n",
    "        self.I_minimum_osc = parameters['I_minimum_osc']\n",
    "        self.I_step_osc = parameters['I_step_osc']\n",
    "        self.refrac_Osc = parameters['refrac_Osc']\n",
    "        self.steady_current = torch.tensor([self.I_minimum_osc + self.I_step_osc * i for i in range(self.n)]).to(self.device)\n",
    "        self.refr = self.refrac_Osc/self.dt\n",
    "\n",
    "    def initialize_state(self,parameters):\n",
    "        self.state = None\n",
    "        self.bs = parameters['trials_per_stimulus']\n",
    "    def forward(self, input):\n",
    "        if self.state is None:\n",
    "            self.state = self.NeuronState(V=torch.ones((self.bs,self.n), device=input.device),\n",
    "                                          I=torch.zeros((self.bs,self.n), device=input.device),\n",
    "                                          count_refr = torch.zeros((self.bs,self.n), device=input.device)\n",
    "                                          )\n",
    "        V = self.state.V\n",
    "        I = self.state.I\n",
    "        count_refr = self.state.count_refr\n",
    "        I += -self.dt * I / self.tau_syn + self.gain_syn * input\n",
    "        V += self.dt * (-V / self.tau_neu + (I + self.steady_current) / self.C)\n",
    "        spk = activation(V - self.thr)\n",
    "        count_refr = self.refr*(spk) + (1-spk)*(count_refr-1)\n",
    "        V = (1 - spk) * V * (count_refr <= 0) + spk * self.Vr\n",
    "        self.state = self.NeuronState(V=V, I=I,count_refr = count_refr)\n",
    "        return spk"
   ]
  },
  {
   "cell_type": "markdown",
   "metadata": {},
   "source": [
    "## TDE model"
   ]
  },
  {
   "cell_type": "code",
   "execution_count": 5,
   "metadata": {
    "ExecuteTime": {
     "end_time": "2023-08-24T14:20:35.007957216Z",
     "start_time": "2023-08-24T14:20:34.981127949Z"
    }
   },
   "outputs": [],
   "source": [
    "class TDE(nn.Module):\n",
    "    NeuronState = namedtuple('NeuronState', ['v', 'i_trg', 'i_fac','count_refr'])\n",
    "\n",
    "    def __init__(self, parameters):\n",
    "        super(TDE, self).__init__()\n",
    "        self.C = parameters['C_TDE']\n",
    "        self.thr = parameters['v_TDE_threshold']\n",
    "        self.state = None\n",
    "        self.bs = parameters['trials_per_stimulus']\n",
    "        self.n = parameters['neurons_n']\n",
    "        self.tau_trg = parameters['tau_trg_TDE']\n",
    "        self.tau_fac = parameters['tau_fac_TDE']\n",
    "        self.gain_fac = parameters['gain_fac_TDE']\n",
    "        self.gain_trg = parameters['gain_trg_TDE']\n",
    "        self.beta = parameters['tau_TDE']\n",
    "        self.dt = parameters['clock_sim']\n",
    "        self.Vr = parameters['reset_TDE']\n",
    "        self.refr = parameters['refrac_TDE']/self.dt\n",
    "        self.device = parameters['device']\n",
    "        # self.refr.to(self.device)\n",
    "\n",
    "    def initialize_state(self,parameters):\n",
    "        self.state = None\n",
    "        self.bs = parameters['trials_per_stimulus']\n",
    "    def forward(self, input_fac, input_trg):\n",
    "        if self.state is None:\n",
    "            self.state = self.NeuronState(v=torch.zeros(input_trg.shape, device=input_trg.device),\n",
    "                                          i_trg=torch.zeros(input_trg.shape, device=input_trg.device),\n",
    "                                          i_fac=torch.zeros(input_trg.shape, device=input_trg.device),\n",
    "                                          count_refr = torch.zeros((self.bs,self.n), device=input_trg.device)\n",
    "                                          )\n",
    "\n",
    "        assert input_trg.shape == input_fac.shape, \"TRG and FAC should have same dimensions, while: shape trg: \" + str(input_trg.shape) + \", shape fac: \" + str(input_fac.shape)\n",
    "        v = self.state.v\n",
    "        i_trg = self.state.i_trg\n",
    "        i_fac = self.state.i_fac\n",
    "        count_refr = self.state.count_refr\n",
    "        i_fac += -self.dt / self.tau_fac * i_fac + self.gain_fac * input_fac\n",
    "        i_trg += -self.dt / self.tau_trg * i_trg + self.gain_trg * input_trg * i_fac\n",
    "        v += self.dt * (- v / self.beta + i_trg / self.C)\n",
    "        spk = activation(v - self.thr)\n",
    "        count_refr = self.refr*(spk) + (1-spk)*(count_refr-1)\n",
    "        v = (1 - spk) * v * (count_refr <= 0) + spk * self.Vr\n",
    "        self.state = self.NeuronState(v=v, i_trg=i_trg, i_fac=i_fac,count_refr= count_refr)\n",
    "        return spk"
   ]
  },
  {
   "cell_type": "markdown",
   "metadata": {},
   "source": [
    "## SPLL model"
   ]
  },
  {
   "cell_type": "code",
   "execution_count": 6,
   "metadata": {
    "ExecuteTime": {
     "end_time": "2023-08-24T14:20:35.313758188Z",
     "start_time": "2023-08-24T14:20:35.297700912Z"
    }
   },
   "outputs": [],
   "source": [
    "class sPLL(nn.Module):\n",
    "    def __init__(self, parameters):\n",
    "        super(sPLL, self).__init__()\n",
    "        self.device = parameters['device']\n",
    "        self.TDE = TDE(parameters).to(self.device)\n",
    "        self.LIF = LIF_neuron(parameters).to(self.device)\n",
    "        self.n_out = parameters['neurons_n']\n",
    "        self.n_in = 1\n",
    "        self.tmp_current_list = nn.Parameter(torch.linspace(parameters['I_minimum_osc'],parameters['I_minimum_osc'] + parameters['I_step_osc']*self.n_out,self.n_out),requires_grad=False).to(self.device)\n",
    "    def initialize_state(self,parameters):\n",
    "        self.LIF.initialize_state(parameters)\n",
    "        self.TDE.initialize_state(parameters)\n",
    "        self.bs = parameters['trials_per_stimulus']\n",
    "        self.input_fac = torch.zeros((self.bs,self.n_out), device=self.device)\n",
    "        self.spikes_TDE_prev = torch.zeros((self.bs,self.n_out), device=self.device).to_sparse()\n",
    "        self.spikes_TDE = torch.zeros((self.bs,self.n_out), device=self.device).to_sparse()\n",
    "        self.spikes_LIF = torch.zeros((self.bs,self.n_out), device=self.device).to_sparse()\n",
    "        self.current_list = self.tmp_current_list*(torch.ones_like(self.input_fac).to(self.device))\n",
    "        self.LIF.steady_current = self.current_list\n",
    "    def forward(self, input):\n",
    "        # input_expanded = input*torch.ones([input.shape[0],self.n_out]).to(self.device).T\n",
    "        self.spikes_LIF = self.LIF(self.spikes_TDE_prev)\n",
    "        self.spikes_TDE = self.TDE(input,self.spikes_LIF)\n",
    "        self.spikes_TDE_prev = self.spikes_TDE\n",
    "        return self.spikes_TDE, self.spikes_LIF"
   ]
  },
  {
   "cell_type": "markdown",
   "metadata": {},
   "source": [
    "# Defining the parameters\n",
    "## Defining general parameters"
   ]
  },
  {
   "cell_type": "code",
   "execution_count": 7,
   "metadata": {
    "ExecuteTime": {
     "end_time": "2023-08-24T14:20:35.634058074Z",
     "start_time": "2023-08-24T14:20:35.610696132Z"
    }
   },
   "outputs": [],
   "source": [
    "parameters = {}"
   ]
  },
  {
   "cell_type": "code",
   "execution_count": 8,
   "metadata": {
    "ExecuteTime": {
     "end_time": "2023-08-24T14:20:35.827317105Z",
     "start_time": "2023-08-24T14:20:35.819285534Z"
    }
   },
   "outputs": [
    {
     "name": "stdout",
     "output_type": "stream",
     "text": [
      "device in use: cpu\n"
     ]
    }
   ],
   "source": [
    "parameters['device'] = torch.device(\"cuda:0\" if torch.cuda.is_available() else \"cpu\")\n",
    "parameters['device'] = torch.device(\"cpu\")\n",
    "print('device in use:',parameters['device'])\n",
    "parameters['neurons_n'] = 50\n",
    "parameters['frequencies'] = 1\n",
    "parameters['clock_sim'] = 0.01e-3\n",
    "parameters['trials_per_stimulus'] = 1\n",
    "sim_time = 1"
   ]
  },
  {
   "cell_type": "markdown",
   "metadata": {},
   "source": [
    "## Defining LIF params"
   ]
  },
  {
   "cell_type": "code",
   "execution_count": 9,
   "metadata": {
    "ExecuteTime": {
     "end_time": "2023-08-24T14:20:36.139155759Z",
     "start_time": "2023-08-24T14:20:36.079728151Z"
    }
   },
   "outputs": [],
   "source": [
    "parameters['C_Osc'] = 1\n",
    "parameters['v_Osc_threshold'] = 1\n",
    "parameters['tau_Osc_Ie'] = 100e-3\n",
    "parameters['tau_Osc'] = 100e-3\n",
    "parameters['TDE_to_Osc_current'] = 5\n",
    "parameters['reset_osc'] = 0\n",
    "parameters['I_minimum_osc'] = 12\n",
    "parameters['I_step_osc'] = 1\n",
    "parameters['refrac_Osc'] = 1e-3\n",
    "parameters['trials_per_stimulus'] = 1"
   ]
  },
  {
   "cell_type": "markdown",
   "metadata": {},
   "source": [
    "## Defining TDE params"
   ]
  },
  {
   "cell_type": "code",
   "execution_count": 10,
   "metadata": {
    "ExecuteTime": {
     "end_time": "2023-08-24T14:20:36.639808066Z",
     "start_time": "2023-08-24T14:20:36.576640125Z"
    }
   },
   "outputs": [],
   "source": [
    "parameters['C_TDE'] = 1\n",
    "parameters['v_TDE_threshold'] = 1\n",
    "parameters['tau_trg_TDE'] = 1e-3\n",
    "parameters['tau_fac_TDE'] = 5e-3\n",
    "parameters['gain_fac_TDE'] = 1\n",
    "parameters['gain_trg_TDE'] = 100000\n",
    "parameters['reset_TDE'] = 0\n",
    "parameters['tau_TDE'] = 10e-3\n",
    "parameters['refrac_TDE'] = 1e-3\n",
    "parameters['trials_per_stimulus'] = 1"
   ]
  },
  {
   "cell_type": "markdown",
   "metadata": {},
   "source": [
    "## Defining SPLL params and simulation"
   ]
  },
  {
   "cell_type": "code",
   "execution_count": 11,
   "metadata": {
    "ExecuteTime": {
     "end_time": "2023-08-24T14:20:37.367882950Z",
     "start_time": "2023-08-24T14:20:37.352152949Z"
    }
   },
   "outputs": [],
   "source": [
    "parameters['TDE_to_Osc_current'] = 1"
   ]
  },
  {
   "cell_type": "code",
   "execution_count": 12,
   "metadata": {
    "ExecuteTime": {
     "end_time": "2023-08-24T14:20:37.731832742Z",
     "start_time": "2023-08-24T14:20:37.681266277Z"
    }
   },
   "outputs": [],
   "source": [
    "def sim_sPLL(freqs,in_spikes,break_feedback = False,parameters_here = [],save_traces = False):\n",
    "    torch.cuda.empty_cache()\n",
    "    spk_tde = []\n",
    "    spk_osc = []\n",
    "    v_tde = []\n",
    "    v_osc = []\n",
    "    i_trg = []\n",
    "    i_fac = []\n",
    "    i_syn = []\n",
    "    # for j in range(len(freqs)):\n",
    "    #     isi = torch.diff(torch.where(in_spikes[:,j,0])[0])*parameters['clock_sim']\n",
    "    #     print('Frequency: ',1/torch.mean(isi).item(),' Hz')\n",
    "    if len(parameters_here) == 0:\n",
    "        parameters_here = parameters\n",
    "    parameters_here['trials_per_stimulus'] = in_spikes.shape[1]\n",
    "    sPLL_test = sPLL(parameters_here)\n",
    "    sPLL_test.initialize_state(parameters = parameters_here)\n",
    "    sim_loop = tqdm.trange(int(sim_time/parameters_here['clock_sim']),desc='Simulating sPLL')\n",
    "    spk_tde_collect = []\n",
    "    spk_osc_collect = []\n",
    "    v_tde_collect = []\n",
    "    v_osc_collect = []\n",
    "    i_trg_collect = []\n",
    "    i_fac_collect = []\n",
    "    i_syn_collect = []\n",
    "    with torch.no_grad():\n",
    "        for i in sim_loop:\n",
    "            spk_tde_tmp,spk_osc_tmp = sPLL_test(in_spikes[i])\n",
    "            if break_feedback == True:\n",
    "                sPLL_test.spikes_TDE_prev = torch.zeros_like(sPLL_test.spikes_TDE_prev)\n",
    "            spk_tde.append(spk_tde_tmp)\n",
    "            spk_osc.append(spk_osc_tmp)\n",
    "            if save_traces == True:\n",
    "                v_tde.append(sPLL_test.TDE.state.v)\n",
    "                v_osc.append(sPLL_test.LIF.state.V)\n",
    "                i_trg.append(sPLL_test.TDE.state.i_trg.clone().detach())\n",
    "                i_fac.append(sPLL_test.TDE.state.i_fac.clone().detach())\n",
    "                i_syn.append(sPLL_test.LIF.state.I.clone().detach())\n",
    "            if (((i-1)%1000000 == 0)):\n",
    "                # sim_loop.set_description('Simulating SPLL: {} ms'.format(i*parameters['clock_sim']*1000))\n",
    "                spk_tde_collect.append(torch.stack(spk_tde).cpu().detach())\n",
    "                spk_osc_collect.append(torch.stack(spk_osc).cpu().detach())\n",
    "                if save_traces:\n",
    "                    v_tde_collect.append(torch.stack(v_tde).cpu().detach())\n",
    "                    v_osc_collect.append(torch.stack(v_osc).cpu().detach())\n",
    "                    i_trg_collect.append(torch.stack(i_trg).cpu().detach())\n",
    "                    i_fac_collect.append(torch.stack(i_fac).cpu().detach())\n",
    "                    i_syn_collect.append(torch.stack(i_syn).cpu().detach())\n",
    "                spk_tde = []\n",
    "                spk_osc = []\n",
    "                v_tde = []\n",
    "                v_osc = []\n",
    "                i_trg = []\n",
    "                i_fac = []\n",
    "                i_syn = []\n",
    "                torch.cuda.empty_cache()\n",
    "        spk_tde_collect.append(torch.stack(spk_tde).cpu().detach())\n",
    "        spk_osc_collect.append(torch.stack(spk_osc).cpu().detach())\n",
    "        if save_traces:\n",
    "            v_tde_collect.append(torch.stack(v_tde).cpu().detach())\n",
    "            v_osc_collect.append(torch.stack(v_osc).cpu().detach())\n",
    "            i_trg_collect.append(torch.stack(i_trg).cpu().detach())\n",
    "            i_fac_collect.append(torch.stack(i_fac).cpu().detach())\n",
    "            i_syn_collect.append(torch.stack(i_syn).cpu().detach())\n",
    "        #i added these lines to make sure everything gets cleared properly\n",
    "        del spk_tde,spk_osc,v_tde,v_osc,i_trg,i_fac,i_syn\n",
    "        torch.cuda.empty_cache()\n",
    "        \n",
    "        spk_tde = torch.concat(spk_tde_collect,dim = 0)\n",
    "        spk_osc = torch.concat(spk_osc_collect,dim = 0)\n",
    "        if save_traces:\n",
    "            v_tde = torch.concat(v_tde_collect,dim = 0)\n",
    "            v_osc = torch.concat(v_osc_collect,dim = 0)\n",
    "            i_trg = torch.concat(i_trg_collect,dim = 0)\n",
    "            i_fac = torch.concat(i_fac_collect,dim = 0)\n",
    "            i_syn = torch.concat(i_syn_collect,dim = 0)\n",
    "            return spk_tde,spk_osc,v_tde,v_osc,i_trg,i_fac,i_syn\n",
    "        else:\n",
    "            return spk_tde,spk_osc\n",
    "\n"
   ]
  },
  {
   "cell_type": "code",
   "execution_count": 13,
   "metadata": {
    "ExecuteTime": {
     "end_time": "2023-08-24T14:20:38.198051149Z",
     "start_time": "2023-08-24T14:20:38.174647651Z"
    }
   },
   "outputs": [],
   "source": [
    "def generate_one_freq(f_ix, freq, trial_n, sim_time, clock_sim, noise=0, shift=0):\n",
    "    trial_vec = torch.linspace(0, trial_n - 1, trial_n)\n",
    "    trials = torch.ones([np.ceil(sim_time * freq).astype(int) + 1, trial_n])\n",
    "\n",
    "    time_array_temp = torch.linspace(0, sim_time / clock_sim * freq,\n",
    "                                     np.ceil(sim_time * freq).astype(int) + 1) * clock_sim / freq\n",
    "    #print(time_array_temp)\n",
    "    time_array = trials.T * time_array_temp\n",
    "    shift = torch.rand(trial_n) * shift / freq\n",
    "    shift = shift.unsqueeze(1).repeat(1, time_array.shape[1])\n",
    "    check = (torch.randn(time_array.shape) * noise / freq) + noise / freq + shift\n",
    "    time_array_noisy = time_array + check\n",
    "    # plt.eventplot(time_array_noisy)\n",
    "    # plt.show()\n",
    "    freq_array = torch.ones(time_array.shape) * f_ix\n",
    "    trial_array = (torch.ones(time_array.shape).T * trial_vec).T\n",
    "    labels = torch.ones(trial_n) * f_ix\n",
    "    time_array_noisy = time_array_noisy.flatten()\n",
    "    freq_array = freq_array.flatten()\n",
    "    trial_array = trial_array.flatten()\n",
    "    return time_array_noisy, freq_array, trial_array, labels\n",
    "\n",
    "\n",
    "def generate_freqs(f1, f2=[], trials_n=1, sim_time=1, sampling_freq=1000, noise=0, shift=0):\n",
    "    data_combined = []\n",
    "    labels_combined = []\n",
    "    time_list = []\n",
    "    trials_list = []\n",
    "    labels_list = []\n",
    "    time_list_combined = []\n",
    "    trials_list_combined = []\n",
    "\n",
    "    for fr_ix in range(len(f1)):\n",
    "        freq = f1[fr_ix]\n",
    "        time, _, trials, labels = generate_one_freq(fr_ix, freq, trials_n, sim_time, 1 / sampling_freq, noise, shift)\n",
    "        time_pos = time > 0\n",
    "        time = time[time_pos]\n",
    "        trials = trials[time_pos]\n",
    "        correct_idx = torch.argsort(time)\n",
    "        time = time[correct_idx]\n",
    "        trials = trials[correct_idx]\n",
    "        time_list.append(time)\n",
    "        trials_list.append(trials)\n",
    "        labels_list.append(labels)\n",
    "        # print(fr_ix)\n",
    "        data_combined.append(\n",
    "            torch.sparse_coo_tensor(indices=torch.stack([(time * sampling_freq).to(torch.int), trials]),\n",
    "                                    values=torch.ones_like(time).float(),\n",
    "                                    size=torch.Size([int(sim_time * sampling_freq), trials_n])).to_dense())\n",
    "        # print(data_combined[-1])\n",
    "        labels_combined.append(labels)\n",
    "        # print('fr1',f1[fr_ix])\n",
    "    if len(f2) > 0:\n",
    "        # print('Generating now f2')\n",
    "        data_combined = []\n",
    "        labels_combined = []\n",
    "        for fr_ix in range(len(f2)):\n",
    "            # print(f1)\n",
    "            freq = f2[fr_ix]\n",
    "            time, _, trials, labels = generate_one_freq(fr_ix, freq, trials_n, sim_time, 1 / sampling_freq, noise,\n",
    "                                                        shift)\n",
    "            time_pos = time > 0\n",
    "            time = time[time_pos]\n",
    "            trials = trials[time_pos]\n",
    "            for fr_ix2, freq2 in enumerate(f1):\n",
    "                time = torch.cat((time_list[fr_ix2], time))\n",
    "                trials = torch.cat((trials_list[fr_ix2], trials))\n",
    "                correct_idx = torch.argsort(time)\n",
    "                time = time[correct_idx]\n",
    "                trials = trials[correct_idx]\n",
    "                time_list_combined.append(time)\n",
    "                trials_list_combined.append(trials)\n",
    "                data_combined.append(\n",
    "                    torch.sparse_coo_tensor(indices=torch.stack([(time * sampling_freq).to(torch.int), trials]),\n",
    "                                            values=torch.ones_like(time).float(),\n",
    "                                            size=torch.Size([int(sim_time * sampling_freq), trials_n])).to_dense())\n",
    "                labels_combined.append(labels * (len(freqs) - 1) + labels_list[fr_ix2])\n",
    "                # print('label',labels * len(freqs) + labels_list[fr_ix2])\n",
    "                # print('fr2',f2[fr_ix], 'fr1',f1[fr_ix2])\n",
    "    return data_combined, labels_combined"
   ]
  },
  {
   "cell_type": "markdown",
   "metadata": {},
   "source": [
    "## Feeding the resulting Dataset into the sPLL network"
   ]
  },
  {
   "cell_type": "code",
   "execution_count": 14,
   "metadata": {
    "ExecuteTime": {
     "end_time": "2023-08-24T14:20:47.487862902Z",
     "start_time": "2023-08-24T14:20:45.202143741Z"
    }
   },
   "outputs": [
    {
     "data": {
      "image/png": "[encoded data removed]",
      "text/plain": [
       "<Figure size 640x480 with 1 Axes>"
      ]
     },
     "metadata": {},
     "output_type": "display_data"
    }
   ],
   "source": [
    "parameters['clock_sim']=1e-4\n",
    "sim_time = 1\n",
    "#generate set of randomly shifted inputs\n",
    "spike_coll = []\n",
    "for i in range(20):\n",
    "    spike_coll_loc,_ = generate_freqs([20],trials_n=1,sim_time=sim_time,sampling_freq=1/parameters['clock_sim'],shift=1)\n",
    "    spike_coll += spike_coll_loc\n",
    "\n",
    "#flatten each set and split potential extra trials\n",
    "spike_coll_clean = []\n",
    "for i in range(len(spike_coll)):\n",
    "    spike_coll_clean += torch.tensor_split(spike_coll[i].flatten(),spike_coll[i].shape[1],dim=0)\n",
    "\n",
    "#do some magic I don't get\n",
    "in_spikes_t = torch.stack(spike_coll_clean,dim=0)\n",
    "in_spikes_t = in_spikes_t.T.unsqueeze(2)*torch.ones((1,1,parameters['neurons_n']))\n",
    "sim_time = in_spikes_t.shape[0]*parameters['clock_sim']\n",
    "in_spikes_t[in_spikes_t>0] = 1\n",
    "in_spikes_t = in_spikes_t.to(parameters['device'])\n",
    "\n",
    "#plot to show\n",
    "for i in range(len(spike_coll_clean)):\n",
    "    plt.plot(spike_coll_clean[i]+i)"
   ]
  },
  {
   "cell_type": "code",
   "execution_count": 15,
   "metadata": {
    "ExecuteTime": {
     "end_time": "2023-08-24T14:20:39.718755901Z",
     "start_time": "2023-08-24T14:20:39.702027523Z"
    }
   },
   "outputs": [
    {
     "name": "stdout",
     "output_type": "stream",
     "text": [
      "device in use: cpu\n"
     ]
    }
   ],
   "source": [
    "#parameters\n",
    "#parameters = {}\n",
    "parameters['device'] = torch.device(\"cuda:0\" if torch.cuda.is_available() else \"cpu\")\n",
    "parameters['device'] = torch.device(\"cpu\")\n",
    "print('device in use:', parameters['device'])\n",
    "parameters['neurons_n'] = 50\n",
    "parameters['frequencies'] = 1\n",
    "parameters['C_Osc'] = 1\n",
    "parameters['v_Osc_threshold'] = 1\n",
    "parameters['tau_Osc_Ie'] = 5e-3\n",
    "parameters['tau_Osc'] = 100e-3\n",
    "parameters['TDE_to_Osc_current'] = 2\n",
    "parameters['reset_osc'] = 0\n",
    "parameters['I_minimum_osc'] = 24\n",
    "parameters['I_step_osc'] = 0.1\n",
    "parameters['refrac_Osc'] = 1e-3\n",
    "parameters['C_TDE'] = 1\n",
    "parameters['v_TDE_threshold'] = 1\n",
    "parameters['tau_trg_TDE'] = 2.5e-3\n",
    "parameters['tau_fac_TDE'] = 10e-3\n",
    "parameters['gain_fac_TDE'] = 1\n",
    "parameters['gain_trg_TDE'] = 10000\n",
    "parameters['reset_TDE'] = 0\n",
    "parameters['tau_TDE'] = 10e-3\n",
    "parameters['refrac_TDE'] = 1e-3\n",
    "parameters['trials_per_stimulus'] = 1"
   ]
  },
  {
   "cell_type": "code",
   "execution_count": 16,
   "metadata": {
    "ExecuteTime": {
     "start_time": "2023-08-24T14:20:14.051510280Z"
    }
   },
   "outputs": [
    {
     "name": "stderr",
     "output_type": "stream",
     "text": [
      "Simulating sPLL: 100%|███████████████████████████████████████████████████████████████████████████████████████████████████████████████████| 10000/10000 [00:02<00:00, 4861.12it/s]\n"
     ]
    }
   ],
   "source": [
    "# plt.rcParams.update({'font.size': 15})\n",
    "spk_tde_t,spk_osc_t,v_tde_t,v_osc_t,i_trg_t,i_fac_t,i_syn_t = sim_sPLL(in_spikes=in_spikes_t,freqs=[i for i in range(in_spikes_t.shape[1])],break_feedback = False,parameters_here=parameters,save_traces=True)\n",
    "# plot_spll_run(in_spikes_t,spk_tde_t,spk_osc_t,i_syn_t,i_fac_t,i_trg_t,[],suptitle='Texture',cmap='Purples',xlims=[0,1000],moving_avg=10)"
   ]
  },
  {
   "cell_type": "code",
   "execution_count": 37,
   "metadata": {
    "ExecuteTime": {
     "start_time": "2023-08-24T14:20:14.051567480Z"
    }
   },
   "outputs": [
    {
     "name": "stdout",
     "output_type": "stream",
     "text": [
      "360\n",
      "(300, 300, 4)\n"
     ]
    },
    {
     "name": "stderr",
     "output_type": "stream",
     "text": [
      "/tmp/ipykernel_102618/3927614689.py:249: UserWarning: This figure includes Axes that are not compatible with tight_layout, so results might be incorrect.\n",
      "  plt.tight_layout()\n",
      "/tmp/ipykernel_102618/3927614689.py:249: UserWarning: Tight layout not applied. tight_layout cannot make axes height small enough to accommodate all axes decorations.\n",
      "  plt.tight_layout()\n"
     ]
    },
    {
     "data": {
      "image/png": "[encoded data removed]",
      "text/plain": [
       "<Figure size 1600x500 with 5 Axes>"
      ]
     },
     "metadata": {},
     "output_type": "display_data"
    }
   ],
   "source": [
    "#working with offsets, now 3 for a paper\n",
    "# plt.rcParams['text.usetex'] = True\n",
    "# plt.rcParams.update({'font.size': 45})\n",
    "SMALL_SIZE = 8\n",
    "MEDIUM_SIZE = 12\n",
    "BIGGER_SIZE = 14\n",
    "plt.rc('font', family='Georgia', size=SMALL_SIZE)\n",
    "# plt.rc('font', size=SMALL_SIZE)          # controls default text sizes\n",
    "plt.rc('axes', titlesize=BIGGER_SIZE)     # fontsize of the axes title\n",
    "plt.rc('axes', labelsize=MEDIUM_SIZE)    # fontsize of the x and y labels\n",
    "plt.rc('xtick', labelsize=MEDIUM_SIZE)    # fontsize of the tick labels\n",
    "plt.rc('ytick', labelsize=MEDIUM_SIZE)    # fontsize of the tick labels\n",
    "plt.rc('legend', fontsize=SMALL_SIZE)    # legend fontsize\n",
    "plt.rc('figure', titlesize=BIGGER_SIZE)  # fontsize of the figure title\n",
    "#keep colors same as in other plots\n",
    "colors = mpl.colormaps['magma'](np.linspace(0.2,0.8,3))\n",
    "\n",
    "select_try_global = 13\n",
    "select_shift = 1\n",
    "\n",
    "#set up things, we don' t really use this for this plot\n",
    "noruns = spk_osc_t.shape[2]\n",
    "noshifts = spk_osc_t.shape[1]\n",
    "skip = 1 #get every skip trace\n",
    "# fig, axs = plt.subplots(2,2,figsize =(30,12),sharex=True, sharey=True)\n",
    "fig1 = plt.figure(figsize=(16,5))\n",
    "gs = fig1.add_gridspec(6, 3)\n",
    "extspikes = np.argwhere(in_spikes_t.cpu()[:,0,0].numpy()).flatten()\n",
    "period = np.average(np.diff(extspikes))*parameters['clock_sim'] #period for the wrapping\n",
    "frequency = 1/period #freq for title\n",
    "k = 0\n",
    "letters = ['A','B','C','D','E','F','G']\n",
    "axis1 = []\n",
    "axis1.append(fig1.add_subplot(gs[0:3, 0]))\n",
    "axis1[-1].text(-0.1, 1.1, letters.pop(0), transform=axis1[-1].transAxes, \n",
    "            size=20, weight='bold')\n",
    "axis1[-1].axis('off')\n",
    "axis1.append(fig1.add_subplot(gs[0:3, 1:3]))\n",
    "spikes_in = torch.where(in_spikes_t[:,select_shift,select_try_global])\n",
    "spikes_tde = torch.where(spk_tde_t[:,select_shift,select_try_global])\n",
    "spikes_osc = torch.where(spk_osc_t[:,select_shift,select_try_global])\n",
    "colors = mpl.colormaps['magma'](np.linspace(0.2,0.8,3))\n",
    "axis1[-1].plot(spikes_in[0]*parameters['clock_sim'],np.zeros_like(spikes_in[0])+2,'|',markersize=12,color=colors[2])\n",
    "axis1[-1].plot(spikes_osc[0]*parameters['clock_sim'],np.zeros_like(spikes_osc[0])+1,'|',markersize=12,color=colors[1])\n",
    "axis1[-1].plot(spikes_tde[0]*parameters['clock_sim'],np.zeros_like(spikes_tde[0]),'|',markersize=12,color=colors[0])\n",
    "axis1[-1].text(-0.1, 1.1, letters.pop(0), transform=axis1[-1].transAxes, \n",
    "            size=20, weight='bold')\n",
    "custom_lines = []\n",
    "from matplotlib.lines import Line2D\n",
    "custom_lines.append(Line2D([0], [0], color=colors[2], lw=4,solid_capstyle='round'))\n",
    "custom_lines.append(Line2D([0], [0], color=colors[1], lw=4,solid_capstyle='round'))\n",
    "custom_lines.append(Line2D([0], [0], color=colors[0], lw=4,solid_capstyle='round'))\n",
    "axis1[-1].legend(custom_lines,[\n",
    "     'Input',\n",
    "     'CCO',\n",
    "    'TDE',\n",
    "],fancybox=True,loc='best',title='Spikes', framealpha=0.8)\n",
    "axis1[-1].spines['left'].set_visible(False)\n",
    "\n",
    "axis1[-1].spines['right'].set_visible(False)\n",
    "axis1[-1].spines['top'].set_visible(False)\n",
    "axis1[-1].set_xlim(4400*parameters['clock_sim'],10000*parameters['clock_sim'])\n",
    "axis1[-1].set_ylim(-0.5,2.5)\n",
    "# axis1[-1].set_xticks([])\n",
    "axis1[-1].set_yticks([])\n",
    "\n",
    "\n",
    "colors = mpl.colormaps['viridis'](np.linspace(0.2,0.8,3))\n",
    "axis1.append(fig1.add_subplot(gs[3:6, 1:3]))\n",
    "custom_lines = []\n",
    "from matplotlib.lines import Line2D\n",
    "custom_lines.append(Line2D([0], [0], color=colors[2], lw=4,solid_capstyle='round'))\n",
    "custom_lines.append(Line2D([0], [0], color=colors[1], lw=4,solid_capstyle='round'))\n",
    "custom_lines.append(Line2D([0], [0], color=colors[0], lw=4,solid_capstyle='round'))\n",
    "axis1[-1].legend(custom_lines,[\n",
    "     'FAC',\n",
    "     'TRG',\n",
    "    'SYN',\n",
    "],fancybox=True,loc='best',title='Traces', framealpha=0.8)\n",
    "axis1[-1].plot(np.array([i for i in range(i_trg_t.shape[0])])*parameters['clock_sim'],i_fac_t[:,select_shift,select_try_global]/i_fac_t.max()+2.4,color=colors[2])\n",
    "axis1[-1].set_xlim(4400*parameters['clock_sim'],10000*parameters['clock_sim'])\n",
    "axis1[-1].set_yticks([])\n",
    "# axis1[-1].set_xticks([])\n",
    "axis1[-1].text(-0.1, 1.1, letters.pop(0), transform=axis1[-1].transAxes, \n",
    "            size=20, weight='bold')\n",
    "axis1[-1].spines['left'].set_visible(False)\n",
    "axis1[-1].spines['right'].set_visible(False)\n",
    "axis1[-1].spines['top'].set_visible(False)\n",
    "# axis1[-1].set_yticks([])\n",
    "axis1[-1].set_xlabel('Time (s)')\n",
    "# axis1.append(fig1.add_subplot(gs[4, 1:3]))\n",
    "axis1[-1].plot(np.array([i for i in range(i_trg_t.shape[0])])*parameters['clock_sim'],i_trg_t[:,select_shift,select_try_global]/i_trg_t.max() + 1.2,color=colors[1])\n",
    "# axis1[-1].set_xlim(0,10000)\n",
    "# axis1[-1].set_xticks([])\n",
    "# axis1[-1].text(-0.1, 1.1, letters.pop(0), transform=axis1[-1].transAxes, \n",
    "#             size=20, weight='bold')\n",
    "\n",
    "axis1[-1].spines['right'].set_visible(False)\n",
    "axis1[-1].spines['top'].set_visible(False)\n",
    "# axis1.append(fig1.add_subplot(gs[5, 1:3]))\n",
    "axis1[-1].plot(np.array([i for i in range(i_trg_t.shape[0])])*parameters['clock_sim'],i_syn_t[:,select_shift,select_try_global]/i_syn_t.max(),color=colors[0])\n",
    "# axis1[-1].set_xlim(0,10000)\n",
    "# axis1[-1].set_xticks([])\n",
    "# axis1[-1].text(-0.1, 1.1, letters.pop(0), transform=axis1[-1].transAxes, \n",
    "#             size=20, weight='bold')\n",
    "\n",
    "axis1[-1].spines['right'].set_visible(False)\n",
    "axis1[-1].spines['top'].set_visible(False)\n",
    "axis1.append(fig1.add_subplot(gs[3:, 0]))\n",
    "selected_trials = [1,select_try_global,34]\n",
    "selected_trials = [select_try_global]\n",
    "axis1[-1].text(-0.1, 1.1, letters.pop(0), transform=axis1[-1].transAxes, \n",
    "            size=20, weight='bold')\n",
    "\n",
    "axis1[-1].spines['right'].set_visible(False)\n",
    "axis1[-1].spines['top'].set_visible(False)\n",
    "for k,i in enumerate(selected_trials):\n",
    "    #get axis, use a separate iterator because i is unreliable\n",
    "#     ax = axs[1,1]\n",
    "# )\n",
    "    ax = axis1[-1]\n",
    "    #set up arrays\n",
    "    phase = np.empty(0)\n",
    "    dphase = np.empty(0)\n",
    "    ddphase = np.empty(0)\n",
    "\n",
    "    #we loop through all our different shifts, so we can stick em together after\n",
    "    for j in range(noshifts):\n",
    "        #get spikes for both cco and input\n",
    "        intspikes = np.argwhere(spk_osc_t[:,j,skip*i].numpy()).flatten()\n",
    "        extspikes = np.argwhere(in_spikes_t.cpu()[:,j,skip*i].numpy()).flatten()\n",
    "        \n",
    "        #cut to size, such that we only look at the part where both are active\n",
    "        lenint = len(intspikes)\n",
    "        lenext = len(extspikes)\n",
    "        if lenint>lenext:\n",
    "            intspikes=intspikes[:lenext]\n",
    "        elif lenext>lenint:\n",
    "            extspikes=extspikes[:lenint]\n",
    "        phaseloc = np.empty_like(extspikes)\n",
    "        for n in range(len(extspikes)):\n",
    "            phaseloc[n] = extspikes[n]\n",
    "\n",
    "        #get loc(al) phase, dphase, and ddphase, add to global arrays\n",
    "        phaseloc = (intspikes-extspikes)*parameters['clock_sim']\n",
    "        phase = np.append(phase,phaseloc[1:-1])\n",
    "        dphaseloc = np.diff(phaseloc)/period\n",
    "        dphase = np.append(dphase,dphaseloc[1:])\n",
    "        ddphaseloc = np.diff(dphaseloc)\n",
    "        ddphase = np.append(ddphase,ddphaseloc)\n",
    "\n",
    "    #'wrap' to -pi,pi\n",
    "    phasefix = (((phase+period/2)%period)-period/2)/period\n",
    "    psorting = np.argsort(phasefix)\n",
    "    phasefix = phasefix[psorting]\n",
    "    dphase = dphase[psorting]\n",
    "    ddphase = ddphase[psorting]\n",
    "    integddphase = integ.cumulative_trapezoid((dphase+ddphase)/period,x=phasefix,initial=0)\n",
    "    integddphase -= np.average(integddphase)\n",
    "\n",
    "    #create arrow arrays\n",
    "    #first we set the step size, smaller for the locking plot\n",
    "    if k == 2:\n",
    "        arrowstep = 2\n",
    "    else:\n",
    "        arrowstep = 50\n",
    "\n",
    "    #get x and y\n",
    "    arrowx = phasefix[::arrowstep]\n",
    "    arrowy = -integddphase[::arrowstep]\n",
    "\n",
    "    #have it point the direction of movement\n",
    "    arrowsign = (dphase/np.abs(dphase))[::arrowstep][:-1]*0.04#*scale\n",
    "\n",
    "    #the tangent of the curve\n",
    "    arrowu = np.diff(arrowx)\n",
    "    arrowv = np.diff(arrowy)\n",
    "    arrowsign /= np.sqrt(arrowu**2+arrowv**2)\n",
    "    arrowu *= arrowsign\n",
    "    arrowv *= arrowsign\n",
    "\n",
    "    #locking plot becomes a mess near x=0\n",
    "    if k == 2:\n",
    "        arrowslice = np.abs(arrowx)>0.001\n",
    "        arrowx = arrowx[arrowslice]\n",
    "        arrowy = arrowy[arrowslice]\n",
    "        arrowu = arrowu[arrowslice[:-1]]\n",
    "        arrowv = arrowv[arrowslice[:-1]]\n",
    "\n",
    "    #main curve\n",
    "    print(len(phasefix))\n",
    "    ax.scatter(phasefix,-integddphase,linewidth=0.001,color='k',zorder=4,s=1)\n",
    "\n",
    "    #arrows\n",
    "    ax.quiver(arrowx[:-1],arrowy[:-1],arrowu,arrowv,scale=1,width=0.1,minlength=0.01,headwidth=8,headaxislength=3,color='k',zorder=3)\n",
    "\n",
    "\n",
    "    #shading\n",
    "    pixels = 300\n",
    "    half = int(pixels/2)\n",
    "    grays = np.full((pixels,pixels, 4), 100, dtype=np.uint8)\n",
    "    alphas = np.zeros((pixels,pixels,))\n",
    "    \n",
    "    alphas[:,half:] = 255*np.exp(-np.linspace(0,0.5,half)*period/parameters['tau_fac_TDE'])\n",
    "    alphas[:,:half] = 255*np.exp(-np.linspace(0.5,1,half)*period/parameters['tau_fac_TDE'])\n",
    "    grays[:,:,3] = alphas\n",
    "    print(grays.shape)\n",
    "    cm = ax.imshow(grays,extent=(-0.5, 0.5, -0.5, 0.8),zorder = 1,aspect='auto',cmap='Greys')\n",
    "#     ax.imshow(grays)\n",
    "    #make nice\n",
    "    ax.set_ylim((-0.5,0.5))\n",
    "#     ax.set_title(f\"I = {parameters['I_minimum_osc']+parameters['I_step_osc']*i}\")\n",
    "    ax.grid()\n",
    "\n",
    "#make whole plot nice\n",
    "# plt.suptitle(f'Potential well plots with f = {frequency:.2f} Hz',size = 100)\n",
    "axis1[-1].set_xlabel(r'$\\phi (cycles)$')\n",
    "axis1[-1].set_ylabel(r'$-\\int^\\pi_{-\\pi} \\frac{d^2\\phi}{dt^2} +  \\frac{d\\phi}{dt}  d\\phi$')\n",
    "cbaxes = fig1.add_axes([0.25, 0.33, 0.05, 0.04])\n",
    "cbaxes.set_title('TDE Rate')\n",
    "# formatter = LogFormatter(10, labelOnlyBase=False)\n",
    "import matplotlib.colors as colors_package\n",
    "sm = plt.cm.ScalarMappable(cmap='Greys', norm=colors_package.Normalize(vmin=grays.min(), vmax=grays.max()))\n",
    "fig1.colorbar(cm,cax=cbaxes, orientation='horizontal',cmap='Greys')\n",
    "cbaxes.yaxis.set_ticks_position('left')\n",
    "cbaxes.yaxis.set_label_position('left')\n",
    "# cbaxes.set_yscale('log')\n",
    "# cbaxes.set_yticks(tau_range[::2])\n",
    "# cbaxes.set_yticklabels(np.round([int(tau_range[i]) for i in range(tau_range.shape[0])])[::-2])\n",
    "# axis1.append(fig1.add_subplot(gs[2:4,3]))\n",
    "# custom_lines = []\n",
    "# from matplotlib.lines import Line2D\n",
    "# custom_lines.append(Line2D([0], [0], color=colors[0], lw=4,solid_capstyle='round'))\n",
    "# custom_lines.append(Line2D([0], [0], color=colors[1], lw=4,solid_capstyle='round'))\n",
    "# custom_lines.append(Line2D([0], [0], color=colors[2], lw=4,solid_capstyle='round'))\n",
    "# custom_lines.append(Line2D([0], [0], color=colors[0], lw=4,solid_capstyle='round'))\n",
    "# custom_lines.append(Line2D([0], [0], color=colors[1], lw=4,solid_capstyle='round'))\n",
    "# custom_lines.append(Line2D([0], [0], color=colors[2], lw=4,solid_capstyle='round'))\n",
    "# axis1[-1].axis('off')\n",
    "# axis1[-1].legend(custom_lines,[\n",
    "#    'Linear',\n",
    "#      'Input Spikes',\n",
    "#      'CCO Spikes',\n",
    "#     'TDE Spikes',\n",
    "#     'FAC Trace',\n",
    "#     'TRG Trace',\n",
    "#     'SYN Trace'\n",
    "# ],fancybox=True,loc='best',title='Model', framealpha=0.8)\n",
    "plt.tight_layout()\n",
    "fig1.savefig('Fig2.svg')\n",
    "plt.show()"
   ]
  },
  {
   "cell_type": "code",
   "execution_count": 24,
   "metadata": {
    "ExecuteTime": {
     "start_time": "2023-08-24T14:20:14.051614134Z"
    },
    "collapsed": false,
    "jupyter": {
     "outputs_hidden": false
    }
   },
   "outputs": [
    {
     "name": "stdout",
     "output_type": "stream",
     "text": [
      "/usr/share/fonts/TTF/Comicbd.TTF\n",
      "/usr/share/fonts/TTF/Arialbd.TTF\n",
      "/usr/share/fonts/TTF/Arial.TTF\n",
      "/usr/share/fonts/TTF/Arialbi.TTF\n",
      "/usr/share/fonts/TTF/trebuc.ttf\n",
      "/usr/share/fonts/TTF/couri.ttf\n",
      "/usr/share/fonts/TTF/trebucbi.ttf\n",
      "/usr/share/fonts/TTF/Georgiab.TTF\n",
      "/usr/share/fonts/TTF/courbd.ttf\n",
      "/usr/share/fonts/TTF/cour.ttf\n",
      "/usr/share/fonts/TTF/Timesbd.TTF\n",
      "/usr/share/fonts/TTF/trebucit.ttf\n",
      "/usr/share/fonts/TTF/Webdings.TTF\n",
      "/usr/share/fonts/TTF/Ariali.TTF\n",
      "/usr/share/fonts/TTF/Trebucbd.ttf\n",
      "/usr/share/fonts/TTF/SymbolsNerdFont-Regular.ttf\n",
      "/usr/share/fonts/TTF/Verdanaz.TTF\n",
      "/usr/share/fonts/TTF/Impact.TTF\n",
      "/usr/share/fonts/TTF/Verdanab.TTF\n",
      "/usr/share/fonts/TTF/courbi.ttf\n",
      "/usr/share/fonts/TTF/Georgia.TTF\n",
      "/usr/share/fonts/TTF/Georgiaz.TTF\n",
      "/usr/share/fonts/TTF/Verdanai.TTF\n",
      "/usr/share/fonts/TTF/AndaleMo.TTF\n",
      "/usr/share/fonts/TTF/Georgiai.TTF\n",
      "/usr/share/fonts/TTF/Times.TTF\n",
      "/usr/share/fonts/TTF/Timesbi.TTF\n",
      "/usr/share/fonts/TTF/Verdana.TTF\n",
      "/usr/share/fonts/TTF/Comic.TTF\n",
      "/usr/share/fonts/TTF/Timesi.TTF\n",
      "/usr/share/fonts/TTF/AriBlk.TTF\n"
     ]
    },
    {
     "data": {
      "text/plain": [
       "'/usr/share/fonts/TTF/Georgia.TTF'"
      ]
     },
     "execution_count": 24,
     "metadata": {},
     "output_type": "execute_result"
    }
   ],
   "source": [
    "import matplotlib.font_manager as fm\n",
    "import matplotlib.pyplot as plt\n",
    "\n",
    "font_cache = [i for i in\n",
    "    fm.findSystemFonts(fontpaths=None, fontext='ttf')\n",
    "    if 'TTF' in i]\n",
    "for i in font_cache:\n",
    "    print(i)\n",
    "\n",
    "fontman = fm.FontManager()\n",
    "fontman.findfont(fm.FontProperties(family='Georgia'))"
   ]
  }
 ],
 "metadata": {
  "kernelspec": {
   "display_name": "Python 3 (ipykernel)",
   "language": "python",
   "name": "python3"
  },
  "language_info": {
   "codemirror_mode": {
    "name": "ipython",
    "version": 3
   },
   "file_extension": ".py",
   "mimetype": "text/x-python",
   "name": "python",
   "nbconvert_exporter": "python",
   "pygments_lexer": "ipython3",
   "version": "3.11.5"
  }
 },
 "nbformat": 4,
 "nbformat_minor": 4
}
